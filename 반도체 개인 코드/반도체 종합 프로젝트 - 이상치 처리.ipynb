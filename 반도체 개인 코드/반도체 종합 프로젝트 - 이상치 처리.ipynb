{
 "cells": [
  {
   "cell_type": "code",
   "execution_count": 1,
   "id": "0f31291a-7cd7-4526-a963-7080de7236ce",
   "metadata": {},
   "outputs": [],
   "source": [
    "import pandas as pd\n",
    "import numpy as np\n",
    "import seaborn as sns\n",
    "import matplotlib.pyplot as plt"
   ]
  },
  {
   "cell_type": "code",
   "execution_count": 2,
   "id": "14ec6b9c-6806-4e9d-b00e-40c6d5446264",
   "metadata": {},
   "outputs": [],
   "source": [
    "import matplotlib\n",
    "import matplotlib.pyplot as plt\n",
    "plt.rcParams['font.family'] = 'NanumGothic'\n",
    "\n",
    "matplotlib.rc(\"axes\", unicode_minus = False)"
   ]
  },
  {
   "cell_type": "code",
   "execution_count": 3,
   "id": "e3790be5-7417-4254-9be6-99b07a380265",
   "metadata": {},
   "outputs": [],
   "source": [
    "df1 = pd.read_csv(\"01 Oxidation.csv\")\n",
    "df2 = pd.read_csv(\"02 Photo_softbake.csv\")\n",
    "df3 = pd.read_csv(\"03 Photo_lithograpy.csv\")\n",
    "df4 = pd.read_csv(\"04 Etching.csv\")\n",
    "df5 = pd.read_csv(\"05 Ion_Implantation.csv\")\n",
    "df6 = pd.read_csv(\"06 Inspect.csv\")"
   ]
  },
  {
   "cell_type": "code",
   "execution_count": 4,
   "id": "cfc8bad3-18cb-43f1-bd1c-7bbfc7163d8b",
   "metadata": {},
   "outputs": [],
   "source": [
    "df = pd.merge(df1, df2, how='left', on=['No_Die','Lot_Num', 'Wafer_Num','Datetime'])\n",
    "df = pd.merge(df, df3, how='left', on=['No_Die','Lot_Num', 'Wafer_Num','Datetime'])\n",
    "df = pd.merge(df, df4, how='left', on=['No_Die','Lot_Num', 'Wafer_Num','Datetime'])\n",
    "df = pd.merge(df, df5, how='left', on=['No_Die','Lot_Num', 'Wafer_Num','Datetime'])\n",
    "df = pd.merge(df, df6, how='left', on=['No_Die','Lot_Num', 'Wafer_Num','Datetime'])"
   ]
  },
  {
   "cell_type": "code",
   "execution_count": 5,
   "id": "587f2b7b-5130-46f8-b82e-4d22185bb662",
   "metadata": {},
   "outputs": [],
   "source": [
    "df.dropna(subset=\"Thin F2\", inplace=True) # 다른 변수들과의 연관성을 찾지못함, 한 행에 여러 열들 결측값 가짐\n",
    "# pd.set_option('display.max_row', 200)\n",
    "# pd.set_option('display.max_columns', 200)"
   ]
  },
  {
   "cell_type": "code",
   "execution_count": 6,
   "id": "8b1bfdab-68c3-446d-9b13-e85be3c070e4",
   "metadata": {},
   "outputs": [],
   "source": [
    "df['Ox_Chamber'] = df['Ox_Chamber'].astype('str')\n",
    "df['photo_soft_Chamber'] = df['photo_soft_Chamber'].astype('str')\n",
    "df['lithography_Chamber'] = df['lithography_Chamber'].astype('str')\n",
    "df['Etching_Chamber'] = df['Etching_Chamber'].astype('str')\n",
    "df['Chamber_Num'] = df['Chamber_Num'].astype('str')\n",
    "df['path'] = df['Ox_Chamber']+df['photo_soft_Chamber']+df['lithography_Chamber']+df['Etching_Chamber']+df['Chamber_Num']"
   ]
  },
  {
   "cell_type": "code",
   "execution_count": 7,
   "id": "473e2781-842c-490c-ab04-86d823e303ec",
   "metadata": {
    "scrolled": true
   },
   "outputs": [],
   "source": [
    "df.drop(df[df['Oxid_time']<0].index, inplace=True) # 산화시간이 음수\n",
    "df.drop(df[df['Target']==0].index, inplace=True) # target 값이 0\n",
    "df.drop(columns = [\"Wafer_map\",\"Error_message\"],inplace=True) # 웨이퍼맵, 에러메시지"
   ]
  },
  {
   "cell_type": "code",
   "execution_count": 8,
   "id": "0ebcdcc5-8282-4548-9863-31b7245ab2c2",
   "metadata": {},
   "outputs": [],
   "source": [
    "# # 불필요한 열 제거 \n",
    "# df.drop(columns=[\"No_Die\", \"Lot_Num\", \"Wafer_Num\"], inplace=True)"
   ]
  },
  {
   "cell_type": "code",
   "execution_count": 9,
   "id": "1335a37d-5e7f-4308-b788-e3394e9a72cc",
   "metadata": {},
   "outputs": [],
   "source": [
    "# 시간 데이터 datetime 유형으로 변환\n",
    "df['Datetime'] = pd.to_datetime(df['Datetime'], format='%d-%m-%Y')\n",
    "\n",
    "# 195이상 = 불량(1), 195미만 = 양품(0)\n",
    "df.loc[df['Target'] >= 195, '불량_195이상'] =1\n",
    "df.loc[df['Target'] < 195, '불량_195이상'] =0"
   ]
  },
  {
   "cell_type": "code",
   "execution_count": 10,
   "id": "6db7cfb0-e884-47a0-b1e2-b338eb40b7fd",
   "metadata": {},
   "outputs": [],
   "source": [
    "df.loc[df['Flux90s']<0, 'Flux90s']=df['Flux90s'].median()\n",
    "df.loc[df['Flux160s']<0, 'Flux160s']=df['Flux160s'].median()\n",
    "df.loc[df['Flux160s']<5, 'Flux160s']=df['Flux160s'].median()"
   ]
  },
  {
   "cell_type": "code",
   "execution_count": 11,
   "id": "acd283d7-4f43-4240-a57b-b403e041b72b",
   "metadata": {},
   "outputs": [],
   "source": [
    "df['Thin F1'].fillna(df['Thin F1'].median(), inplace=True)\n",
    "df['Thin F3'].fillna(df['Thin F3'].median(), inplace=True)\n",
    "df['Flux60s'].fillna(df['Flux90s'].median(), inplace=True)\n",
    "df['Flux90s'].fillna(df['Flux90s'].median(), inplace=True)\n",
    "df['Flux480s'].fillna(df['Flux90s'].median(), inplace=True)\n",
    "df['Flux840s'].fillna(df['Flux90s'].median(), inplace=True)"
   ]
  },
  {
   "cell_type": "code",
   "execution_count": 12,
   "id": "1c33e210-b26c-487e-a609-c6a60ae895a5",
   "metadata": {},
   "outputs": [
    {
     "name": "stdout",
     "output_type": "stream",
     "text": [
      "Columns with negative values:\n",
      "['Thin F4']\n",
      "\n",
      "Number of rows with negative values in each column:\n",
      "Temp_OXid            0\n",
      "ppm                  0\n",
      "Pressure             0\n",
      "Oxid_time            0\n",
      "thickness            0\n",
      "Lot_Num              0\n",
      "Wafer_Num            0\n",
      "resist_target        0\n",
      "N2_HMDS              0\n",
      "pressure_HMDS        0\n",
      "temp_HMDS            0\n",
      "temp_HMDS_bake       0\n",
      "time_HMDS_bake       0\n",
      "spin1                0\n",
      "spin2                0\n",
      "spin3                0\n",
      "photoresist_bake     0\n",
      "temp_softbake        0\n",
      "time_softbake        0\n",
      "Line_CD              0\n",
      "Wavelength           0\n",
      "Resolution           0\n",
      "Energy_Exposure      0\n",
      "Thin F4              6\n",
      "Thin F3              0\n",
      "Thin F2              0\n",
      "Thin F1              0\n",
      "Temp_Etching         0\n",
      "Source_Power         0\n",
      "Selectivity          0\n",
      "Flux60s              0\n",
      "Flux90s              0\n",
      "Flux160s             0\n",
      "Flux480s             0\n",
      "Flux840s             0\n",
      "input_Energy         0\n",
      "Temp_implantation    0\n",
      "Furance_Temp         0\n",
      "RTA_Temp             0\n",
      "Target               0\n",
      "불량_195이상             0\n",
      "dtype: int64\n"
     ]
    }
   ],
   "source": [
    "negative_values = df.select_dtypes(include=['number']).lt(0)\n",
    "\n",
    "# 음수 값을 가진 열 목록 출력\n",
    "columns_with_negative_values = negative_values.any()\n",
    "print(\"Columns with negative values:\")\n",
    "print(columns_with_negative_values[columns_with_negative_values].index.tolist())\n",
    "\n",
    "# 각 열에서 음수 값을 포함한 행 수 출력\n",
    "print(\"\\nNumber of rows with negative values in each column:\")\n",
    "print(negative_values.sum())"
   ]
  },
  {
   "cell_type": "code",
   "execution_count": 13,
   "id": "1937e137-1d36-4427-8869-6b41e31727c3",
   "metadata": {},
   "outputs": [
    {
     "name": "stdout",
     "output_type": "stream",
     "text": [
      "<class 'pandas.core.frame.DataFrame'>\n",
      "Index: 1693 entries, 0 to 1703\n",
      "Data columns (total 57 columns):\n",
      " #   Column               Non-Null Count  Dtype         \n",
      "---  ------               --------------  -----         \n",
      " 0   No_Die               1693 non-null   object        \n",
      " 1   Ox_Chamber           1693 non-null   object        \n",
      " 2   process              1693 non-null   object        \n",
      " 3   type                 1693 non-null   object        \n",
      " 4   Temp_OXid            1693 non-null   float64       \n",
      " 5   Vapor                1693 non-null   object        \n",
      " 6   ppm                  1693 non-null   float64       \n",
      " 7   Pressure             1693 non-null   float64       \n",
      " 8   Oxid_time            1693 non-null   int64         \n",
      " 9   thickness            1693 non-null   float64       \n",
      " 10  Lot_Num              1693 non-null   int64         \n",
      " 11  Wafer_Num            1693 non-null   int64         \n",
      " 12  Datetime             1693 non-null   datetime64[ns]\n",
      " 13  photo_soft_Chamber   1693 non-null   object        \n",
      " 14  process 2            1693 non-null   object        \n",
      " 15  resist_target        1693 non-null   float64       \n",
      " 16  N2_HMDS              1693 non-null   float64       \n",
      " 17  pressure_HMDS        1693 non-null   float64       \n",
      " 18  temp_HMDS            1693 non-null   float64       \n",
      " 19  temp_HMDS_bake       1693 non-null   float64       \n",
      " 20  time_HMDS_bake       1693 non-null   float64       \n",
      " 21  spin1                1693 non-null   float64       \n",
      " 22  spin2                1693 non-null   float64       \n",
      " 23  spin3                1693 non-null   float64       \n",
      " 24  photoresist_bake     1693 non-null   float64       \n",
      " 25  temp_softbake        1693 non-null   float64       \n",
      " 26  time_softbake        1693 non-null   float64       \n",
      " 27  lithography_Chamber  1693 non-null   object        \n",
      " 28  Process 2-1          1693 non-null   object        \n",
      " 29  Line_CD              1693 non-null   float64       \n",
      " 30  UV_type              1693 non-null   object        \n",
      " 31  Wavelength           1693 non-null   int64         \n",
      " 32  Resolution           1693 non-null   float64       \n",
      " 33  Energy_Exposure      1693 non-null   float64       \n",
      " 34  Etching_Chamber      1693 non-null   object        \n",
      " 35  Process 3            1693 non-null   object        \n",
      " 36  Thin F4              1693 non-null   float64       \n",
      " 37  Thin F3              1693 non-null   float64       \n",
      " 38  Thin F2              1693 non-null   float64       \n",
      " 39  Thin F1              1693 non-null   float64       \n",
      " 40  Temp_Etching         1693 non-null   float64       \n",
      " 41  Source_Power         1693 non-null   float64       \n",
      " 42  Selectivity          1693 non-null   float64       \n",
      " 43  Chamber_Num          1693 non-null   object        \n",
      " 44  process4             1693 non-null   object        \n",
      " 45  Flux60s              1693 non-null   float64       \n",
      " 46  Flux90s              1693 non-null   float64       \n",
      " 47  Flux160s             1693 non-null   float64       \n",
      " 48  Flux480s             1693 non-null   float64       \n",
      " 49  Flux840s             1693 non-null   float64       \n",
      " 50  input_Energy         1693 non-null   float64       \n",
      " 51  Temp_implantation    1693 non-null   float64       \n",
      " 52  Furance_Temp         1693 non-null   float64       \n",
      " 53  RTA_Temp             1693 non-null   int64         \n",
      " 54  Target               1693 non-null   float64       \n",
      " 55  path                 1693 non-null   object        \n",
      " 56  불량_195이상             1693 non-null   float64       \n",
      "dtypes: datetime64[ns](1), float64(36), int64(5), object(15)\n",
      "memory usage: 767.1+ KB\n"
     ]
    }
   ],
   "source": [
    "df.info()"
   ]
  },
  {
   "cell_type": "code",
   "execution_count": null,
   "id": "330145f4-d164-411f-9c7a-182cc98d9ca1",
   "metadata": {},
   "outputs": [],
   "source": []
  }
 ],
 "metadata": {
  "kernelspec": {
   "display_name": "Python 3 (ipykernel)",
   "language": "python",
   "name": "python3"
  },
  "language_info": {
   "codemirror_mode": {
    "name": "ipython",
    "version": 3
   },
   "file_extension": ".py",
   "mimetype": "text/x-python",
   "name": "python",
   "nbconvert_exporter": "python",
   "pygments_lexer": "ipython3",
   "version": "3.11.8"
  }
 },
 "nbformat": 4,
 "nbformat_minor": 5
}
