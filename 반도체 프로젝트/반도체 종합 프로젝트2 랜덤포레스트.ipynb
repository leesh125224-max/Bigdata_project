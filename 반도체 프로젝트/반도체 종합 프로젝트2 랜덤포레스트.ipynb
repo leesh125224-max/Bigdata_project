{
 "cells": [
  {
   "cell_type": "code",
   "execution_count": 2,
   "id": "0f31291a-7cd7-4526-a963-7080de7236ce",
   "metadata": {},
   "outputs": [],
   "source": [
    "import pandas as pd\n",
    "import numpy as np\n",
    "import seaborn as sns\n",
    "import matplotlib.pyplot as plt\n",
    "import warnings\n",
    "warnings.filterwarnings('ignore')"
   ]
  },
  {
   "cell_type": "code",
   "execution_count": 3,
   "id": "14ec6b9c-6806-4e9d-b00e-40c6d5446264",
   "metadata": {},
   "outputs": [],
   "source": [
    "import matplotlib\n",
    "import matplotlib.pyplot as plt\n",
    "plt.rcParams['font.family'] = 'NanumGothic'\n",
    "\n",
    "matplotlib.rc(\"axes\", unicode_minus = False)"
   ]
  },
  {
   "cell_type": "code",
   "execution_count": 4,
   "id": "e3790be5-7417-4254-9be6-99b07a380265",
   "metadata": {},
   "outputs": [],
   "source": [
    "df1 = pd.read_csv(\"01 Oxidation.csv\")\n",
    "df2 = pd.read_csv(\"02 Photo_softbake.csv\")\n",
    "df3 = pd.read_csv(\"03 Photo_lithograpy.csv\")\n",
    "df4 = pd.read_csv(\"04 Etching.csv\")\n",
    "df5 = pd.read_csv(\"05 Ion_Implantation.csv\")\n",
    "df6 = pd.read_csv(\"06 Inspect.csv\")"
   ]
  },
  {
   "cell_type": "code",
   "execution_count": 5,
   "id": "cfc8bad3-18cb-43f1-bd1c-7bbfc7163d8b",
   "metadata": {},
   "outputs": [],
   "source": [
    "df = pd.merge(df1, df2, on=['No_Die','Lot_Num', 'Wafer_Num','Datetime'])\n",
    "df = pd.merge(df, df3, on=['No_Die','Lot_Num', 'Wafer_Num','Datetime'])\n",
    "df = pd.merge(df, df4, on=['No_Die','Lot_Num', 'Wafer_Num','Datetime'])\n",
    "df = pd.merge(df, df5, on=['No_Die','Lot_Num', 'Wafer_Num','Datetime'])\n",
    "df = pd.merge(df, df6, on=['No_Die','Lot_Num', 'Wafer_Num','Datetime'])"
   ]
  },
  {
   "cell_type": "code",
   "execution_count": 6,
   "id": "587f2b7b-5130-46f8-b82e-4d22185bb662",
   "metadata": {},
   "outputs": [],
   "source": [
    "df.dropna(subset=\"Thin F2\", inplace=True) # 다른 변수들과의 연관성을 찾지못함, 한 행에 여러 열들 결측값 가짐\n",
    "# pd.set_option('display.max_row', 200)\n",
    "# pd.set_option('display.max_columns', 200)"
   ]
  },
  {
   "cell_type": "code",
   "execution_count": 7,
   "id": "8b1bfdab-68c3-446d-9b13-e85be3c070e4",
   "metadata": {},
   "outputs": [],
   "source": [
    "df['Ox_Chamber'] = df['Ox_Chamber'].astype('str')\n",
    "df['photo_soft_Chamber'] = df['photo_soft_Chamber'].astype('str')\n",
    "df['lithography_Chamber'] = df['lithography_Chamber'].astype('str')\n",
    "df['Etching_Chamber'] = df['Etching_Chamber'].astype('str')\n",
    "df['Chamber_Num'] = df['Chamber_Num'].astype('str')\n",
    "df['path'] = df['Ox_Chamber']+df['photo_soft_Chamber']+df['lithography_Chamber']+df['Etching_Chamber']+df['Chamber_Num']"
   ]
  },
  {
   "cell_type": "code",
   "execution_count": 8,
   "id": "473e2781-842c-490c-ab04-86d823e303ec",
   "metadata": {
    "scrolled": true
   },
   "outputs": [],
   "source": [
    "df.drop(df[df['Oxid_time']<0].index, inplace=True) # 산화시간이 음수\n",
    "df.drop(df[df['Target']==0].index, inplace=True) # target 값이 0\n",
    "df.drop(columns = [\"Wafer_map\",\"Error_message\"],inplace=True) # 웨이퍼맵, 에러메시지"
   ]
  },
  {
   "cell_type": "code",
   "execution_count": 9,
   "id": "1335a37d-5e7f-4308-b788-e3394e9a72cc",
   "metadata": {},
   "outputs": [],
   "source": [
    "# 시간 데이터 datetime 유형으로 변환\n",
    "df['Datetime'] = pd.to_datetime(df['Datetime'], format='%d-%m-%Y')\n",
    "\n",
    "# 195이상 = 불량(1), 195미만 = 양품(0)\n",
    "df.loc[df['Target'] >= 195, '불량_195이상'] =1\n",
    "df.loc[df['Target'] < 195, '불량_195이상'] =0"
   ]
  },
  {
   "cell_type": "code",
   "execution_count": 10,
   "id": "6db7cfb0-e884-47a0-b1e2-b338eb40b7fd",
   "metadata": {},
   "outputs": [],
   "source": [
    "df.loc[df['Thin F4']<0, 'Thin F4']=df['Thin F4'].median()\n",
    "df.loc[df['Flux90s']<0, 'Flux90s']=df['Flux90s'].median()\n",
    "df.loc[df['Flux160s']<0, 'Flux160s']=df['Flux160s'].median()\n",
    "df.loc[df['Flux160s']<5, 'Flux160s']=df['Flux160s'].median()"
   ]
  },
  {
   "cell_type": "code",
   "execution_count": 11,
   "id": "acd283d7-4f43-4240-a57b-b403e041b72b",
   "metadata": {},
   "outputs": [],
   "source": [
    "df['Thin F1'].fillna(df['Thin F1'].median(), inplace=True)\n",
    "df['Thin F3'].fillna(df['Thin F3'].median(), inplace=True)\n",
    "df['Flux60s'].fillna(df['Flux90s'].median(), inplace=True)\n",
    "df['Flux90s'].fillna(df['Flux90s'].median(), inplace=True)\n",
    "df['Flux480s'].fillna(df['Flux90s'].median(), inplace=True)\n",
    "df['Flux840s'].fillna(df['Flux90s'].median(), inplace=True)"
   ]
  },
  {
   "cell_type": "markdown",
   "id": "2cd4b6f3-d202-400e-9d08-81a9885dfa06",
   "metadata": {},
   "source": [
    "### 불필요한 열 제거"
   ]
  },
  {
   "cell_type": "code",
   "execution_count": 12,
   "id": "64a1766d-1b14-42bc-b817-57fe8c553a4b",
   "metadata": {},
   "outputs": [],
   "source": [
    "# 불필요한 열 제거 \n",
    "# df.drop(columns=[\"No_Die\", \"Lot_Num\", \"Wafer_Num\"], inplace=True)\n",
    "df.drop(columns=['Vapor','process','Wavelength'])\n",
    "df.loc[df['Flux840s'] == 8.137500e+16, 'Flux840s'] = df['Flux840s'].mode()[0]\n",
    "df.loc[df['Flux480s'] == 8.137500e+16, 'Flux480s'] = df['Flux480s'].mode()[0]"
   ]
  },
  {
   "cell_type": "code",
   "execution_count": 13,
   "id": "edecc600-f595-458e-b623-d16f3670e486",
   "metadata": {},
   "outputs": [],
   "source": [
    "df_new = df[['Temp_OXid','ppm','Pressure','type','Oxid_time',\n",
    "        'N2_HMDS', 'pressure_HMDS', 'temp_HMDS', 'temp_HMDS_bake',\n",
    "       'time_HMDS_bake', 'spin1', 'spin2', 'spin3', 'photoresist_bake',\n",
    "       'temp_softbake', 'time_softbake', 'UV_type', 'Energy_Exposure',       \n",
    "        'Temp_Etching', 'Source_Power',\n",
    "       'input_Energy', 'Temp_implantation', 'Furance_Temp', 'RTA_Temp',\n",
    "       '불량_195이상', 'path']]"
   ]
  },
  {
   "cell_type": "code",
   "execution_count": 14,
   "id": "d93a8a91-cd1d-4711-8338-31c4cc0066a3",
   "metadata": {},
   "outputs": [],
   "source": [
    "# 데이터 구성:Series, DataFrame\n",
    "import pandas as pd\n",
    "# 데이터 시각화\n",
    "import matplotlib.pyplot as plt\n",
    "import matplotlib\n",
    "\n",
    "# 데이터 분할:train, test\n",
    "from sklearn.model_selection import train_test_split\n",
    "#분류 Random Forest\n",
    "from sklearn.ensemble import RandomForestClassifier\n",
    "# 최적 모델, 파라미터 탐색\n",
    "from sklearn.model_selection import GridSearchCV\n",
    "\n",
    "# 분류모델 평가 함수\n",
    "from sklearn.metrics import accuracy_score, f1_score \n",
    "from sklearn.metrics import confusion_matrix, classification_report\n",
    "\n",
    "import warnings\n",
    "warnings.filterwarnings('ignore')"
   ]
  },
  {
   "cell_type": "code",
   "execution_count": 15,
   "id": "7738efaf-f23d-43b6-84f6-db1356a21872",
   "metadata": {},
   "outputs": [
    {
     "name": "stdout",
     "output_type": "stream",
     "text": [
      "분할 전 설명변수 데이터 : (1693, 108)\n",
      "분할 후 설명변수 데이터 :Train (1185, 108)   Test (508, 108)\n"
     ]
    }
   ],
   "source": [
    "df_raw_dummy = pd.get_dummies(df_new).astype(int)\n",
    "\n",
    "df_raw_x = df_raw_dummy.drop(\"불량_195이상\", axis = 1, inplace = False)\n",
    "df_raw_y = df_raw_dummy[\"불량_195이상\"] \n",
    "\n",
    "df_train_x, df_test_x, df_train_y, df_test_y = train_test_split(\n",
    "    df_raw_x, df_raw_y, test_size = 0.3, random_state = 1234) \n",
    "\n",
    "print(\"분할 전 설명변수 데이터 :\", df_raw_x.shape)\n",
    "print(\"분할 후 설명변수 데이터 :Train\", df_train_x.shape, \"  Test\",df_test_x.shape)"
   ]
  },
  {
   "cell_type": "code",
   "execution_count": 15,
   "id": "63bd67a1-b692-4b9a-98ea-718093bd3a90",
   "metadata": {},
   "outputs": [
    {
     "name": "stdout",
     "output_type": "stream",
     "text": [
      "Accuracy on training set: 0.999\n",
      "Accuracy on test set: 0.927\n"
     ]
    }
   ],
   "source": [
    "rf_uncust = RandomForestClassifier(random_state=1234)\n",
    "rf_uncust.fit(df_train_x, df_train_y)\n",
    "\n",
    "print(\"Accuracy on training set: {:.3f}\".format(rf_uncust.score(df_train_x, df_train_y)))\n",
    "print(\"Accuracy on test set: {:.3f}\".format(rf_uncust.score(df_test_x, df_test_y)))"
   ]
  },
  {
   "cell_type": "code",
   "execution_count": 17,
   "id": "60d3b74e-09e6-4717-8f6e-03d69423cb30",
   "metadata": {},
   "outputs": [
    {
     "name": "stdout",
     "output_type": "stream",
     "text": [
      "best estimator model: \n",
      "RandomForestClassifier(bootstrap=False, max_depth=9, min_samples_leaf=5,\n",
      "                       n_estimators=250, random_state=1234)\n",
      "\n",
      "best parameter: \n",
      "{'bootstrap': False, 'max_depth': 9, 'min_samples_leaf': 5, 'min_samples_split': 2, 'n_estimators': 250}\n",
      "\n",
      "best score: \n",
      "0.941\n"
     ]
    }
   ],
   "source": [
    "estimator = RandomForestClassifier(random_state=1234)\n",
    "# 구하고자 하는 parameter와 범위\n",
    "param_grid = {\"max_depth\": [3,5,7,9,11,13],\n",
    "              \"min_samples_leaf\": [5,7,9,11,13,15,20],\n",
    "              \"n_estimators\" : [100, 150, 200, 250, 300],\n",
    "              \"min_samples_split\": [2,3,5,7,8],\n",
    "              \"bootstrap\": [True, False]\n",
    "              }\n",
    "# 정확도가 높은 최적 parameter 찾기\n",
    "grid_rf = GridSearchCV(estimator, param_grid, scoring=\"accuracy\", n_jobs = -1)\n",
    "grid_rf.fit(df_train_x, df_train_y)\n",
    "print(\"best estimator model: \\n{}\".format(grid_rf.best_estimator_))\n",
    "print(\"\\nbest parameter: \\n{}\".format(grid_rf.best_params_))\n",
    "print(\"\\nbest score: \\n{}\".format(grid_rf.best_score_.round(3)))"
   ]
  },
  {
   "cell_type": "code",
   "execution_count": 16,
   "id": "dcb54e57-2e3d-4af8-b1b5-d1002ee67244",
   "metadata": {},
   "outputs": [
    {
     "name": "stdout",
     "output_type": "stream",
     "text": [
      "Accuracy on training set: 0.950\n",
      "Accuracy on test set: 0.927\n",
      "\n",
      "Confusion matrix: \n",
      "[[463   1]\n",
      " [ 36   8]]\n",
      "              precision    recall  f1-score   support\n",
      "\n",
      "           0      0.928     0.998     0.962       464\n",
      "           1      0.889     0.182     0.302        44\n",
      "\n",
      "    accuracy                          0.927       508\n",
      "   macro avg      0.908     0.590     0.632       508\n",
      "weighted avg      0.924     0.927     0.904       508\n",
      "\n"
     ]
    }
   ],
   "source": [
    "rf_final=RandomForestClassifier(bootstrap=False, max_depth=9, min_samples_leaf=5,\n",
    "                       n_estimators=250, random_state=1234)\n",
    "\n",
    "rf_final.fit(df_train_x, df_train_y)\n",
    "y_pred = rf_final.predict(df_test_x)\n",
    "\n",
    "print(\"Accuracy on training set: {:.3f}\".format(rf_final.score(df_train_x, df_train_y)))\n",
    "print(\"Accuracy on test set: {:.3f}\\n\".format(rf_final.score(df_test_x, df_test_y)))\n",
    "print(\"Confusion matrix: \\n{}\".format(confusion_matrix(df_test_y, y_pred)))\n",
    "\n",
    "print(classification_report(df_test_y, y_pred, digits=3))"
   ]
  },
  {
   "cell_type": "code",
   "execution_count": 17,
   "id": "1aacd744-0f77-4823-be73-d34e18e0c387",
   "metadata": {},
   "outputs": [
    {
     "data": {
      "text/html": [
       "<div>\n",
       "<style scoped>\n",
       "    .dataframe tbody tr th:only-of-type {\n",
       "        vertical-align: middle;\n",
       "    }\n",
       "\n",
       "    .dataframe tbody tr th {\n",
       "        vertical-align: top;\n",
       "    }\n",
       "\n",
       "    .dataframe thead th {\n",
       "        text-align: right;\n",
       "    }\n",
       "</style>\n",
       "<table border=\"1\" class=\"dataframe\">\n",
       "  <thead>\n",
       "    <tr style=\"text-align: right;\">\n",
       "      <th></th>\n",
       "      <th>Feature</th>\n",
       "      <th>Importance</th>\n",
       "    </tr>\n",
       "  </thead>\n",
       "  <tbody>\n",
       "    <tr>\n",
       "      <th>18</th>\n",
       "      <td>input_Energy</td>\n",
       "      <td>0.100</td>\n",
       "    </tr>\n",
       "    <tr>\n",
       "      <th>11</th>\n",
       "      <td>spin3</td>\n",
       "      <td>0.097</td>\n",
       "    </tr>\n",
       "    <tr>\n",
       "      <th>0</th>\n",
       "      <td>Temp_OXid</td>\n",
       "      <td>0.083</td>\n",
       "    </tr>\n",
       "    <tr>\n",
       "      <th>20</th>\n",
       "      <td>Furance_Temp</td>\n",
       "      <td>0.072</td>\n",
       "    </tr>\n",
       "    <tr>\n",
       "      <th>3</th>\n",
       "      <td>Oxid_time</td>\n",
       "      <td>0.061</td>\n",
       "    </tr>\n",
       "    <tr>\n",
       "      <th>...</th>\n",
       "      <td>...</td>\n",
       "      <td>...</td>\n",
       "    </tr>\n",
       "    <tr>\n",
       "      <th>79</th>\n",
       "      <td>path_23322</td>\n",
       "      <td>0.000</td>\n",
       "    </tr>\n",
       "    <tr>\n",
       "      <th>61</th>\n",
       "      <td>path_21322</td>\n",
       "      <td>0.000</td>\n",
       "    </tr>\n",
       "    <tr>\n",
       "      <th>77</th>\n",
       "      <td>path_23233</td>\n",
       "      <td>0.000</td>\n",
       "    </tr>\n",
       "    <tr>\n",
       "      <th>70</th>\n",
       "      <td>path_22322</td>\n",
       "      <td>0.000</td>\n",
       "    </tr>\n",
       "    <tr>\n",
       "      <th>91</th>\n",
       "      <td>path_32122</td>\n",
       "      <td>0.000</td>\n",
       "    </tr>\n",
       "  </tbody>\n",
       "</table>\n",
       "<p>108 rows × 2 columns</p>\n",
       "</div>"
      ],
      "text/plain": [
       "         Feature  Importance\n",
       "18  input_Energy       0.100\n",
       "11         spin3       0.097\n",
       "0      Temp_OXid       0.083\n",
       "20  Furance_Temp       0.072\n",
       "3      Oxid_time       0.061\n",
       "..           ...         ...\n",
       "79    path_23322       0.000\n",
       "61    path_21322       0.000\n",
       "77    path_23233       0.000\n",
       "70    path_22322       0.000\n",
       "91    path_32122       0.000\n",
       "\n",
       "[108 rows x 2 columns]"
      ]
     },
     "execution_count": 17,
     "metadata": {},
     "output_type": "execute_result"
    }
   ],
   "source": [
    "v_feature_names = df_train_x.columns\n",
    "\n",
    "df_importance = pd.DataFrame()\n",
    "df_importance [\"Feature\"] = v_feature_names\n",
    "df_importance [\"Importance\"] = rf_final.feature_importances_\n",
    "df_importance .sort_values(\"Importance\", ascending=False, inplace = True)\n",
    "df_importance .round(3)"
   ]
  },
  {
   "cell_type": "code",
   "execution_count": 18,
   "id": "5283ad51-2c66-42ca-9d09-31b0b35bd65c",
   "metadata": {},
   "outputs": [
    {
     "data": {
      "image/png": "[encoded data removed]",
      "text/plain": [
       "<Figure size 640x480 with 1 Axes>"
      ]
     },
     "metadata": {},
     "output_type": "display_data"
    }
   ],
   "source": [
    "df_importance = pd.DataFrame()\n",
    "df_importance[\"Feature\"] = v_feature_names\n",
    "df_importance[\"Importance\"] = rf_final.feature_importances_\n",
    "\n",
    "# df_feature_importance의 테이블을 중요도별로 정렬\n",
    "df_importance.sort_values(\"Importance\", ascending=False, inplace = True)\n",
    "df_importance.sort_values(\"Importance\", ascending=True, inplace = True)\n",
    "coordinates = range(len(df_importance))\n",
    "top_10_importance = df_importance.nlargest(10, \"Importance\")\n",
    "\n",
    "# 시각화\n",
    "coordinates = range(len(top_10_importance))\n",
    "plt.barh(y=coordinates[::-1], width=top_10_importance[\"Importance\"])\n",
    "plt.yticks(coordinates[::-1], top_10_importance[\"Feature\"], fontsize=10)\n",
    "plt.xlabel(\"변수 중요도\")\n",
    "plt.ylabel(\"변수\")\n",
    "plt.title(\"상위 10개 변수 중요도\")\n",
    "plt.show()"
   ]
  },
  {
   "cell_type": "code",
   "execution_count": 19,
   "id": "a87b8f64-e4b4-4cd5-9070-5a794c5e8811",
   "metadata": {},
   "outputs": [
    {
     "data": {
      "text/plain": [
       "불량_195이상\n",
       "0.0    1572\n",
       "1.0     121\n",
       "Name: count, dtype: int64"
      ]
     },
     "execution_count": 19,
     "metadata": {},
     "output_type": "execute_result"
    }
   ],
   "source": [
    "df['불량_195이상'].value_counts()"
   ]
  },
  {
   "cell_type": "markdown",
   "id": "2a43c0e1-6f8b-4ca6-b097-f3424acc18e8",
   "metadata": {},
   "source": [
    "### SMOTE"
   ]
  },
  {
   "cell_type": "code",
   "execution_count": 20,
   "id": "595ca562-e946-4478-aaa6-d424d999a068",
   "metadata": {},
   "outputs": [],
   "source": [
    "from imblearn.over_sampling import SMOTE\n",
    "from sklearn.model_selection import train_test_split\n",
    "from sklearn.tree import DecisionTreeClassifier\n",
    "from sklearn.metrics import classification_report"
   ]
  },
  {
   "cell_type": "code",
   "execution_count": 21,
   "id": "384102ea-9fe8-4b83-b7d7-6a5d8a0ab4db",
   "metadata": {},
   "outputs": [
    {
     "name": "stdout",
     "output_type": "stream",
     "text": [
      "              precision    recall  f1-score   support\n",
      "\n",
      "           0       0.95      0.98      0.97       464\n",
      "           1       0.69      0.45      0.55        44\n",
      "\n",
      "    accuracy                           0.94       508\n",
      "   macro avg       0.82      0.72      0.76       508\n",
      "weighted avg       0.93      0.94      0.93       508\n",
      "\n"
     ]
    }
   ],
   "source": [
    "smote = SMOTE(random_state=42)\n",
    "X_resampled, y_resampled = smote.fit_resample(df_train_x, df_train_y)\n",
    "rf_clf = RandomForestClassifier(random_state=42)\n",
    "rf_clf.fit(X_resampled, y_resampled)\n",
    "\n",
    "y_pred = rf_clf.predict(df_test_x)\n",
    "print(classification_report(df_test_y, y_pred))"
   ]
  },
  {
   "cell_type": "code",
   "execution_count": 22,
   "id": "19b647f4-22aa-4dea-b44b-17dfa5e7534d",
   "metadata": {},
   "outputs": [
    {
     "name": "stdout",
     "output_type": "stream",
     "text": [
      "best estimator model: \n",
      "RandomForestClassifier(bootstrap=False, max_depth=13, min_samples_leaf=5,\n",
      "                       n_estimators=200, random_state=1234)\n",
      "\n",
      "best parameter: \n",
      "{'bootstrap': False, 'max_depth': 13, 'min_samples_leaf': 5, 'min_samples_split': 2, 'n_estimators': 200}\n",
      "\n",
      "best score: \n",
      "0.971\n"
     ]
    }
   ],
   "source": [
    "estimator = RandomForestClassifier(random_state=1234)\n",
    "# 구하고자 하는 parameter와 범위\n",
    "param_grid = {\"max_depth\": [3,5,7,9,11,13],\n",
    "              \"min_samples_leaf\": [5,7,9,11,13,15,20],\n",
    "              \"n_estimators\" : [100, 150, 200, 250, 300],\n",
    "              \"min_samples_split\": [2,3,5,7,8],\n",
    "              \"bootstrap\": [True, False]\n",
    "              }\n",
    "# 정확도가 높은 최적 parameter 찾기\n",
    "grid_rf = GridSearchCV(estimator, param_grid, scoring=\"accuracy\", n_jobs = -1)\n",
    "grid_rf.fit(X_resampled, y_resampled)\n",
    "print(\"best estimator model: \\n{}\".format(grid_rf.best_estimator_))\n",
    "print(\"\\nbest parameter: \\n{}\".format(grid_rf.best_params_))\n",
    "print(\"\\nbest score: \\n{}\".format(grid_rf.best_score_.round(3)))"
   ]
  },
  {
   "cell_type": "code",
   "execution_count": 25,
   "id": "1a97e76a-7ffb-43dc-8e96-ca5f364d8ce7",
   "metadata": {},
   "outputs": [
    {
     "name": "stdout",
     "output_type": "stream",
     "text": [
      "Confusion matrix: \n",
      "[[452  12]\n",
      " [ 25  19]]\n",
      "              precision    recall  f1-score   support\n",
      "\n",
      "           0       0.95      0.97      0.96       464\n",
      "           1       0.61      0.43      0.51        44\n",
      "\n",
      "    accuracy                           0.93       508\n",
      "   macro avg       0.78      0.70      0.73       508\n",
      "weighted avg       0.92      0.93      0.92       508\n",
      "\n"
     ]
    }
   ],
   "source": [
    "rf_clf = RandomForestClassifier(bootstrap=False, max_depth=13, min_samples_leaf=5,\n",
    "                       n_estimators=200, random_state=1234)\n",
    "rf_clf.fit(X_resampled, y_resampled)\n",
    "\n",
    "y_pred = rf_clf.predict(df_test_x)\n",
    "print(\"Confusion matrix: \\n{}\".format(confusion_matrix(df_test_y, y_pred)))\n",
    "print(classification_report(df_test_y, y_pred))"
   ]
  },
  {
   "cell_type": "code",
   "execution_count": null,
   "id": "76f8d24b-c409-4fe2-ab89-862e3feefc3f",
   "metadata": {},
   "outputs": [],
   "source": []
  }
 ],
 "metadata": {
  "kernelspec": {
   "display_name": "Python 3 (ipykernel)",
   "language": "python",
   "name": "python3"
  },
  "language_info": {
   "codemirror_mode": {
    "name": "ipython",
    "version": 3
   },
   "file_extension": ".py",
   "mimetype": "text/x-python",
   "name": "python",
   "nbconvert_exporter": "python",
   "pygments_lexer": "ipython3",
   "version": "3.11.9"
  }
 },
 "nbformat": 4,
 "nbformat_minor": 5
}
