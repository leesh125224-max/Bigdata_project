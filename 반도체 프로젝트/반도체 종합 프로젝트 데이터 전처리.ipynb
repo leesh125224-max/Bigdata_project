{
 "cells": [
  {
   "cell_type": "code",
   "execution_count": 1,
   "id": "0f31291a-7cd7-4526-a963-7080de7236ce",
   "metadata": {},
   "outputs": [],
   "source": [
    "import pandas as pd\n",
    "import numpy as np\n",
    "import seaborn as sns\n",
    "import matplotlib.pyplot as plt"
   ]
  },
  {
   "cell_type": "code",
   "execution_count": 2,
   "id": "e3790be5-7417-4254-9be6-99b07a380265",
   "metadata": {},
   "outputs": [],
   "source": [
    "df1 = pd.read_csv(\"01 Oxidation.csv\")\n",
    "df2 = pd.read_csv(\"02 Photo_softbake.csv\")\n",
    "df3 = pd.read_csv(\"03 Photo_lithograpy.csv\")\n",
    "df4 = pd.read_csv(\"04 Etching.csv\")\n",
    "df5 = pd.read_csv(\"05 Ion_Implantation.csv\")\n",
    "df6 = pd.read_csv(\"06 Inspect.csv\")"
   ]
  },
  {
   "cell_type": "code",
   "execution_count": 3,
   "id": "cfc8bad3-18cb-43f1-bd1c-7bbfc7163d8b",
   "metadata": {},
   "outputs": [],
   "source": [
    "df = pd.merge(df1, df2, how='left', on=['No_Die','Lot_Num', 'Wafer_Num','Datetime'])\n",
    "df = pd.merge(df, df3, how='left', on=['No_Die','Lot_Num', 'Wafer_Num','Datetime'])\n",
    "df = pd.merge(df, df4, how='left', on=['No_Die','Lot_Num', 'Wafer_Num','Datetime'])\n",
    "df = pd.merge(df, df5, how='left', on=['No_Die','Lot_Num', 'Wafer_Num','Datetime'])\n",
    "df = pd.merge(df, df6, how='left', on=['No_Die','Lot_Num', 'Wafer_Num','Datetime'])"
   ]
  },
  {
   "cell_type": "code",
   "execution_count": 13,
   "id": "587f2b7b-5130-46f8-b82e-4d22185bb662",
   "metadata": {},
   "outputs": [],
   "source": [
    "df.dropna(subset=\"Thin F2\", inplace=True) # 다른 변수들과의 연관성을 찾지못함, 한 행에 여러 열들 결측값 가짐\n",
    "pd.set_option('display.max_row', 200)\n",
    "pd.set_option('display.max_columns', 200)"
   ]
  },
  {
   "cell_type": "code",
   "execution_count": 5,
   "id": "5b32f3f0-52a3-4dab-8389-c2dc099fd860",
   "metadata": {
    "scrolled": true
   },
   "outputs": [
    {
     "name": "stdout",
     "output_type": "stream",
     "text": [
      "<class 'pandas.core.frame.DataFrame'>\n",
      "Int64Index: 1702 entries, 0 to 1703\n",
      "Data columns (total 57 columns):\n",
      " #   Column               Non-Null Count  Dtype  \n",
      "---  ------               --------------  -----  \n",
      " 0   No_Die               1702 non-null   object \n",
      " 1   Ox_Chamber           1702 non-null   int64  \n",
      " 2   process              1702 non-null   object \n",
      " 3   type                 1702 non-null   object \n",
      " 4   Temp_OXid            1702 non-null   float64\n",
      " 5   Vapor                1702 non-null   object \n",
      " 6   ppm                  1702 non-null   float64\n",
      " 7   Pressure             1702 non-null   float64\n",
      " 8   Oxid_time            1702 non-null   int64  \n",
      " 9   thickness            1702 non-null   float64\n",
      " 10  Lot_Num              1702 non-null   int64  \n",
      " 11  Wafer_Num            1702 non-null   int64  \n",
      " 12  Datetime             1702 non-null   object \n",
      " 13  photo_soft_Chamber   1702 non-null   int64  \n",
      " 14  process 2            1702 non-null   object \n",
      " 15  resist_target        1702 non-null   float64\n",
      " 16  N2_HMDS              1702 non-null   float64\n",
      " 17  pressure_HMDS        1702 non-null   float64\n",
      " 18  temp_HMDS            1702 non-null   float64\n",
      " 19  temp_HMDS_bake       1702 non-null   float64\n",
      " 20  time_HMDS_bake       1702 non-null   float64\n",
      " 21  spin1                1702 non-null   float64\n",
      " 22  spin2                1702 non-null   float64\n",
      " 23  spin3                1702 non-null   float64\n",
      " 24  photoresist_bake     1702 non-null   float64\n",
      " 25  temp_softbake        1702 non-null   float64\n",
      " 26  time_softbake        1702 non-null   float64\n",
      " 27  lithography_Chamber  1702 non-null   int64  \n",
      " 28  Process 2-1          1702 non-null   object \n",
      " 29  Line_CD              1702 non-null   float64\n",
      " 30  UV_type              1702 non-null   object \n",
      " 31  Wavelength           1702 non-null   int64  \n",
      " 32  Resolution           1702 non-null   float64\n",
      " 33  Energy_Exposure      1702 non-null   float64\n",
      " 34  Etching_Chamber      1702 non-null   int64  \n",
      " 35  Process 3            1702 non-null   object \n",
      " 36  Thin F4              1702 non-null   float64\n",
      " 37  Thin F3              1701 non-null   float64\n",
      " 38  Thin F2              1702 non-null   float64\n",
      " 39  Thin F1              1698 non-null   float64\n",
      " 40  Temp_Etching         1702 non-null   float64\n",
      " 41  Source_Power         1702 non-null   float64\n",
      " 42  Selectivity          1702 non-null   float64\n",
      " 43  Chamber_Num          1702 non-null   int64  \n",
      " 44  process4             1702 non-null   object \n",
      " 45  Flux60s              1701 non-null   float64\n",
      " 46  Flux90s              1701 non-null   float64\n",
      " 47  Flux160s             1702 non-null   float64\n",
      " 48  Flux480s             1701 non-null   float64\n",
      " 49  Flux840s             1701 non-null   float64\n",
      " 50  input_Energy         1702 non-null   float64\n",
      " 51  Temp_implantation    1702 non-null   float64\n",
      " 52  Furance_Temp         1702 non-null   float64\n",
      " 53  RTA_Temp             1702 non-null   int64  \n",
      " 54  Target               1702 non-null   float64\n",
      " 55  Error_message        1702 non-null   object \n",
      " 56  Wafer_map            1702 non-null   object \n",
      "dtypes: float64(35), int64(10), object(12)\n",
      "memory usage: 771.2+ KB\n"
     ]
    }
   ],
   "source": [
    "df.info()"
   ]
  },
  {
   "cell_type": "code",
   "execution_count": 6,
   "id": "8b1bfdab-68c3-446d-9b13-e85be3c070e4",
   "metadata": {},
   "outputs": [],
   "source": [
    "df['Ox_Chamber'] = df['Ox_Chamber'].astype('str')\n",
    "df['photo_soft_Chamber'] = df['photo_soft_Chamber'].astype('str')\n",
    "df['lithography_Chamber'] = df['lithography_Chamber'].astype('str')\n",
    "df['Etching_Chamber'] = df['Etching_Chamber'].astype('str')\n",
    "df['Chamber_Num'] = df['Chamber_Num'].astype('str')"
   ]
  },
  {
   "cell_type": "code",
   "execution_count": 14,
   "id": "fc924a4d-4d28-44cb-82ff-1d41c5e4df6d",
   "metadata": {},
   "outputs": [
    {
     "data": {
      "text/plain": [
       "0       21111\n",
       "1       21122\n",
       "2       21133\n",
       "3       21111\n",
       "4       21122\n",
       "        ...  \n",
       "1699    33333\n",
       "1700    11133\n",
       "1701    11222\n",
       "1702    11311\n",
       "1703    12111\n",
       "Name: path, Length: 1702, dtype: object"
      ]
     },
     "execution_count": 14,
     "metadata": {},
     "output_type": "execute_result"
    }
   ],
   "source": [
    "df['path'] = df['Ox_Chamber']+df['photo_soft_Chamber']+df['lithography_Chamber']+df['Etching_Chamber']+df['Chamber_Num']\n",
    "df['path']"
   ]
  },
  {
   "cell_type": "markdown",
   "id": "9d211784-b5b6-40c5-9e2d-1974de3b8890",
   "metadata": {},
   "source": [
    "### 에러메시지 사용할 지 논의 필요"
   ]
  },
  {
   "cell_type": "code",
   "execution_count": 8,
   "id": "c8cf092b-3a06-41cc-8699-5d4f691e14de",
   "metadata": {},
   "outputs": [
    {
     "data": {
      "text/plain": [
       "[['Edge-Loc']]     57\n",
       "[['Loc']]          29\n",
       "[['Random']]       11\n",
       "[['Center']]       10\n",
       "[['Scratch']]       7\n",
       "[['Near-full']]     4\n",
       "[['Edge-Ring']]     4\n",
       "Name: Error_message, dtype: int64"
      ]
     },
     "execution_count": 8,
     "metadata": {},
     "output_type": "execute_result"
    }
   ],
   "source": [
    "df[df['Error_message'] != 'none']['Error_message'].value_counts() # 에러 메시지 "
   ]
  },
  {
   "cell_type": "markdown",
   "id": "60f7082c-de85-43d8-bcf9-010413fa8902",
   "metadata": {},
   "source": [
    "### 불필요한 열 제거 - 논의 필요"
   ]
  },
  {
   "cell_type": "code",
   "execution_count": 9,
   "id": "0ebcdcc5-8282-4548-9863-31b7245ab2c2",
   "metadata": {},
   "outputs": [],
   "source": [
    "# # 불필요한 열 제거 \n",
    "# df.drop(columns=[\"No_Die\", \"Lot_Num\", \"Wafer_Num\", \"Error_message\",\"Wafer_map\"], inplace=True)"
   ]
  },
  {
   "cell_type": "code",
   "execution_count": 9,
   "id": "1335a37d-5e7f-4308-b788-e3394e9a72cc",
   "metadata": {},
   "outputs": [],
   "source": [
    "# 시간 데이터 datetime 유형으로 변환\n",
    "df['Datetime'] = pd.to_datetime(df['Datetime'], format='%d-%m-%Y')"
   ]
  },
  {
   "cell_type": "code",
   "execution_count": 10,
   "id": "fc77208c-34f3-4928-8048-5f6172437be8",
   "metadata": {
    "scrolled": true
   },
   "outputs": [
    {
     "data": {
      "text/plain": [
       "22222    45\n",
       "13222    43\n",
       "32222    43\n",
       "23222    43\n",
       "21222    42\n",
       "11222    41\n",
       "31222    35\n",
       "33222    34\n",
       "12222    32\n",
       "11311    30\n",
       "12111    30\n",
       "11133    30\n",
       "13311    29\n",
       "12333    29\n",
       "22111    29\n",
       "13333    29\n",
       "21111    29\n",
       "13111    29\n",
       "12133    29\n",
       "11333    29\n",
       "12311    29\n",
       "11111    29\n",
       "21133    29\n",
       "21311    29\n",
       "21333    28\n",
       "33333    26\n",
       "33133    26\n",
       "31311    26\n",
       "31133    26\n",
       "23333    26\n",
       "23111    26\n",
       "22311    26\n",
       "32111    26\n",
       "32133    26\n",
       "33311    26\n",
       "22333    26\n",
       "23311    26\n",
       "31111    26\n",
       "32311    26\n",
       "31333    26\n",
       "33111    25\n",
       "22133    24\n",
       "13133    22\n",
       "23133    20\n",
       "32333    18\n",
       "12122    12\n",
       "12211    12\n",
       "12233    12\n",
       "12322    12\n",
       "13122    12\n",
       "13211    12\n",
       "11322    12\n",
       "11233    12\n",
       "11211    12\n",
       "11122    12\n",
       "13233    12\n",
       "22122    12\n",
       "13322    12\n",
       "21322    12\n",
       "21122    12\n",
       "21233    12\n",
       "21211    12\n",
       "22211    11\n",
       "22233    11\n",
       "31233     9\n",
       "23233     9\n",
       "22322     9\n",
       "23122     9\n",
       "23211     9\n",
       "23322     9\n",
       "31322     9\n",
       "33322     9\n",
       "33233     9\n",
       "33211     9\n",
       "33122     9\n",
       "31122     9\n",
       "32322     9\n",
       "32233     9\n",
       "32211     9\n",
       "32122     9\n",
       "31211     9\n",
       "Name: path, dtype: int64"
      ]
     },
     "execution_count": 10,
     "metadata": {},
     "output_type": "execute_result"
    }
   ],
   "source": [
    "path_count = df['path'].value_counts()\n",
    "path_count"
   ]
  },
  {
   "cell_type": "code",
   "execution_count": 12,
   "id": "c4aae6eb-5462-4082-93be-f4300e9470ca",
   "metadata": {},
   "outputs": [
    {
     "name": "stdout",
     "output_type": "stream",
     "text": [
      "['21111' '21122' '21133' ... '11222' '11311' '12111']\n"
     ]
    }
   ],
   "source": [
    "print(df['path'].values)"
   ]
  },
  {
   "cell_type": "code",
   "execution_count": 32,
   "id": "40b52287-75e7-40bb-b27a-3e3bae243e1b",
   "metadata": {},
   "outputs": [
    {
     "data": {
      "text/plain": [
       "path\n",
       "11111    2703.0\n",
       "11122     988.0\n",
       "11133    2885.0\n",
       "11211    1439.0\n",
       "11222    3861.0\n",
       "          ...  \n",
       "33222    2525.0\n",
       "33233     812.0\n",
       "33311    2301.0\n",
       "33322     601.0\n",
       "33333    2665.0\n",
       "Name: Target, Length: 81, dtype: float64"
      ]
     },
     "execution_count": 32,
     "metadata": {},
     "output_type": "execute_result"
    }
   ],
   "source": [
    "path_sum = df.groupby('path')['Target'].sum()\n",
    "path_sum "
   ]
  },
  {
   "cell_type": "code",
   "execution_count": 35,
   "id": "46453e5c-3ff4-45b7-9a0e-6c8dc6f48bf9",
   "metadata": {},
   "outputs": [
    {
     "data": {
      "text/plain": [
       "11111    0.046603\n",
       "11122    0.041167\n",
       "11133    0.048083\n",
       "11211    0.059958\n",
       "11222    0.047085\n",
       "           ...   \n",
       "33222    0.037132\n",
       "33233    0.045111\n",
       "33311    0.044250\n",
       "33322    0.033389\n",
       "33333    0.051250\n",
       "Length: 81, dtype: float64"
      ]
     },
     "execution_count": 35,
     "metadata": {},
     "output_type": "execute_result"
    }
   ],
   "source": [
    "path_sum / (2000*path_count)"
   ]
  },
  {
   "cell_type": "markdown",
   "id": "14d99e56-7ae9-41ea-8e14-4f174d8f2191",
   "metadata": {},
   "source": [
    "# 품질검사공정 이상치, 결측치"
   ]
  },
  {
   "cell_type": "code",
   "execution_count": 10,
   "id": "a730cfb4-c3ba-42f3-b861-527e8ab0d622",
   "metadata": {},
   "outputs": [
    {
     "data": {
      "text/html": [
       "<div>\n",
       "<style scoped>\n",
       "    .dataframe tbody tr th:only-of-type {\n",
       "        vertical-align: middle;\n",
       "    }\n",
       "\n",
       "    .dataframe tbody tr th {\n",
       "        vertical-align: top;\n",
       "    }\n",
       "\n",
       "    .dataframe thead th {\n",
       "        text-align: right;\n",
       "    }\n",
       "</style>\n",
       "<table border=\"1\" class=\"dataframe\">\n",
       "  <thead>\n",
       "    <tr style=\"text-align: right;\">\n",
       "      <th></th>\n",
       "      <th>No_Die</th>\n",
       "      <th>Lot_Num</th>\n",
       "      <th>Wafer_Num</th>\n",
       "      <th>Datetime</th>\n",
       "      <th>Target</th>\n",
       "      <th>Error_message</th>\n",
       "    </tr>\n",
       "  </thead>\n",
       "  <tbody>\n",
       "    <tr>\n",
       "      <th>0</th>\n",
       "      <td>NOLSM325131325</td>\n",
       "      <td>13.0</td>\n",
       "      <td>28.0</td>\n",
       "      <td>09-01-2023</td>\n",
       "      <td>141.0</td>\n",
       "      <td>none</td>\n",
       "    </tr>\n",
       "    <tr>\n",
       "      <th>1</th>\n",
       "      <td>NOLSM326132326</td>\n",
       "      <td>13.0</td>\n",
       "      <td>29.0</td>\n",
       "      <td>09-01-2023</td>\n",
       "      <td>55.0</td>\n",
       "      <td>none</td>\n",
       "    </tr>\n",
       "    <tr>\n",
       "      <th>2</th>\n",
       "      <td>NOLSM327133327</td>\n",
       "      <td>13.0</td>\n",
       "      <td>30.0</td>\n",
       "      <td>09-01-2023</td>\n",
       "      <td>96.0</td>\n",
       "      <td>none</td>\n",
       "    </tr>\n",
       "    <tr>\n",
       "      <th>3</th>\n",
       "      <td>NOLSM328134328</td>\n",
       "      <td>13.0</td>\n",
       "      <td>31.0</td>\n",
       "      <td>09-01-2023</td>\n",
       "      <td>105.0</td>\n",
       "      <td>none</td>\n",
       "    </tr>\n",
       "    <tr>\n",
       "      <th>4</th>\n",
       "      <td>NOLSM329135329</td>\n",
       "      <td>13.0</td>\n",
       "      <td>32.0</td>\n",
       "      <td>09-01-2023</td>\n",
       "      <td>79.0</td>\n",
       "      <td>none</td>\n",
       "    </tr>\n",
       "    <tr>\n",
       "      <th>...</th>\n",
       "      <td>...</td>\n",
       "      <td>...</td>\n",
       "      <td>...</td>\n",
       "      <td>...</td>\n",
       "      <td>...</td>\n",
       "      <td>...</td>\n",
       "    </tr>\n",
       "    <tr>\n",
       "      <th>1699</th>\n",
       "      <td>NOLSM8483211</td>\n",
       "      <td>32.0</td>\n",
       "      <td>11.0</td>\n",
       "      <td>06-03-2023</td>\n",
       "      <td>78.0</td>\n",
       "      <td>none</td>\n",
       "    </tr>\n",
       "    <tr>\n",
       "      <th>1700</th>\n",
       "      <td>NOLSM8493212</td>\n",
       "      <td>32.0</td>\n",
       "      <td>12.0</td>\n",
       "      <td>06-03-2023</td>\n",
       "      <td>42.0</td>\n",
       "      <td>none</td>\n",
       "    </tr>\n",
       "    <tr>\n",
       "      <th>1701</th>\n",
       "      <td>NOLSM8503213</td>\n",
       "      <td>32.0</td>\n",
       "      <td>13.0</td>\n",
       "      <td>06-03-2023</td>\n",
       "      <td>42.0</td>\n",
       "      <td>none</td>\n",
       "    </tr>\n",
       "    <tr>\n",
       "      <th>1702</th>\n",
       "      <td>NOLSM8513214</td>\n",
       "      <td>32.0</td>\n",
       "      <td>14.0</td>\n",
       "      <td>06-03-2023</td>\n",
       "      <td>24.0</td>\n",
       "      <td>none</td>\n",
       "    </tr>\n",
       "    <tr>\n",
       "      <th>1703</th>\n",
       "      <td>NOLSM8523215</td>\n",
       "      <td>32.0</td>\n",
       "      <td>15.0</td>\n",
       "      <td>06-03-2023</td>\n",
       "      <td>84.0</td>\n",
       "      <td>none</td>\n",
       "    </tr>\n",
       "  </tbody>\n",
       "</table>\n",
       "<p>1704 rows × 6 columns</p>\n",
       "</div>"
      ],
      "text/plain": [
       "              No_Die  Lot_Num  Wafer_Num    Datetime  Target Error_message\n",
       "0     NOLSM325131325     13.0       28.0  09-01-2023   141.0          none\n",
       "1     NOLSM326132326     13.0       29.0  09-01-2023    55.0          none\n",
       "2     NOLSM327133327     13.0       30.0  09-01-2023    96.0          none\n",
       "3     NOLSM328134328     13.0       31.0  09-01-2023   105.0          none\n",
       "4     NOLSM329135329     13.0       32.0  09-01-2023    79.0          none\n",
       "...              ...      ...        ...         ...     ...           ...\n",
       "1699    NOLSM8483211     32.0       11.0  06-03-2023    78.0          none\n",
       "1700    NOLSM8493212     32.0       12.0  06-03-2023    42.0          none\n",
       "1701    NOLSM8503213     32.0       13.0  06-03-2023    42.0          none\n",
       "1702    NOLSM8513214     32.0       14.0  06-03-2023    24.0          none\n",
       "1703    NOLSM8523215     32.0       15.0  06-03-2023    84.0          none\n",
       "\n",
       "[1704 rows x 6 columns]"
      ]
     },
     "execution_count": 10,
     "metadata": {},
     "output_type": "execute_result"
    }
   ],
   "source": [
    "df6.drop(columns='Wafer_map',inplace=True)\n",
    "df6"
   ]
  },
  {
   "cell_type": "code",
   "execution_count": 11,
   "id": "81f45004-0631-4099-9dcf-883b531bf10d",
   "metadata": {},
   "outputs": [
    {
     "data": {
      "text/plain": [
       "No_Die           0\n",
       "Lot_Num          0\n",
       "Wafer_Num        0\n",
       "Datetime         0\n",
       "Target           0\n",
       "Error_message    0\n",
       "dtype: int64"
      ]
     },
     "execution_count": 11,
     "metadata": {},
     "output_type": "execute_result"
    }
   ],
   "source": [
    "df6.isnull().sum()"
   ]
  },
  {
   "cell_type": "code",
   "execution_count": 12,
   "id": "ae2b3f52-0da3-47b0-9c36-b3643281bb7b",
   "metadata": {},
   "outputs": [
    {
     "data": {
      "text/plain": [
       "Index(['No_Die', 'Lot_Num', 'Wafer_Num', 'Datetime', 'Target',\n",
       "       'Error_message'],\n",
       "      dtype='object')"
      ]
     },
     "execution_count": 12,
     "metadata": {},
     "output_type": "execute_result"
    }
   ],
   "source": [
    "df6.columns"
   ]
  },
  {
   "cell_type": "code",
   "execution_count": 13,
   "id": "5fce63ad-93b1-4b8b-8055-1551cf694468",
   "metadata": {},
   "outputs": [
    {
     "data": {
      "text/plain": [
       "<AxesSubplot: ylabel='Target'>"
      ]
     },
     "execution_count": 13,
     "metadata": {},
     "output_type": "execute_result"
    },
    {
     "data": {
      "image/png": "[encoded data removed]",
      "text/plain": [
       "<Figure size 640x480 with 1 Axes>"
      ]
     },
     "metadata": {},
     "output_type": "display_data"
    }
   ],
   "source": [
    "sns.boxplot(y='Target', data=df6) # 이상치가 보이는데 df에서 결측값 제거하면서 없어짐"
   ]
  },
  {
   "cell_type": "code",
   "execution_count": 14,
   "id": "3c30ad12-e4d2-41a0-abfc-a15b0475e3c8",
   "metadata": {
    "scrolled": true
   },
   "outputs": [
    {
     "data": {
      "text/html": [
       "<div>\n",
       "<style scoped>\n",
       "    .dataframe tbody tr th:only-of-type {\n",
       "        vertical-align: middle;\n",
       "    }\n",
       "\n",
       "    .dataframe tbody tr th {\n",
       "        vertical-align: top;\n",
       "    }\n",
       "\n",
       "    .dataframe thead th {\n",
       "        text-align: right;\n",
       "    }\n",
       "</style>\n",
       "<table border=\"1\" class=\"dataframe\">\n",
       "  <thead>\n",
       "    <tr style=\"text-align: right;\">\n",
       "      <th></th>\n",
       "      <th>No_Die</th>\n",
       "      <th>Lot_Num</th>\n",
       "      <th>Wafer_Num</th>\n",
       "      <th>Datetime</th>\n",
       "      <th>Target</th>\n",
       "      <th>Error_message</th>\n",
       "    </tr>\n",
       "  </thead>\n",
       "  <tbody>\n",
       "    <tr>\n",
       "      <th>1107</th>\n",
       "      <td>NOLSM703271703</td>\n",
       "      <td>27.0</td>\n",
       "      <td>28.0</td>\n",
       "      <td>01-03-2023</td>\n",
       "      <td>666.0</td>\n",
       "      <td>[['Loc']]</td>\n",
       "    </tr>\n",
       "    <tr>\n",
       "      <th>1161</th>\n",
       "      <td>NOLSM703271</td>\n",
       "      <td>27.0</td>\n",
       "      <td>1.0</td>\n",
       "      <td>01-03-2023</td>\n",
       "      <td>666.0</td>\n",
       "      <td>[['Loc']]</td>\n",
       "    </tr>\n",
       "  </tbody>\n",
       "</table>\n",
       "</div>"
      ],
      "text/plain": [
       "              No_Die  Lot_Num  Wafer_Num    Datetime  Target Error_message\n",
       "1107  NOLSM703271703     27.0       28.0  01-03-2023   666.0     [['Loc']]\n",
       "1161     NOLSM703271     27.0        1.0  01-03-2023   666.0     [['Loc']]"
      ]
     },
     "execution_count": 14,
     "metadata": {},
     "output_type": "execute_result"
    }
   ],
   "source": [
    "df6[df6['Target']>580] # Thin F2 의 결측치 제거 과정에서 제거됨"
   ]
  },
  {
   "cell_type": "code",
   "execution_count": 24,
   "id": "87bfeb1f-373d-4bbb-9173-7a2b8d553163",
   "metadata": {},
   "outputs": [],
   "source": [
    "# 195이상 = 불량(1), 195미만 = 양품(0)\n",
    "df.loc[df['Target'] >= 195, '불량'] =1\n",
    "df.loc[df['Target'] < 195, '불량'] =0"
   ]
  },
  {
   "cell_type": "code",
   "execution_count": 29,
   "id": "76295584-615e-4574-986d-b3b63b6234be",
   "metadata": {},
   "outputs": [
    {
     "data": {
      "text/plain": [
       "0.0    1580\n",
       "1.0     124\n",
       "Name: 불량, dtype: int64"
      ]
     },
     "execution_count": 29,
     "metadata": {},
     "output_type": "execute_result"
    }
   ],
   "source": [
    "df6['불량'].value_counts()"
   ]
  },
  {
   "cell_type": "code",
   "execution_count": 23,
   "id": "fce6def2-46eb-4cea-a68c-eb6ba7e9fdc6",
   "metadata": {
    "scrolled": true
   },
   "outputs": [
    {
     "data": {
      "text/html": [
       "<div>\n",
       "<style scoped>\n",
       "    .dataframe tbody tr th:only-of-type {\n",
       "        vertical-align: middle;\n",
       "    }\n",
       "\n",
       "    .dataframe tbody tr th {\n",
       "        vertical-align: top;\n",
       "    }\n",
       "\n",
       "    .dataframe thead th {\n",
       "        text-align: right;\n",
       "    }\n",
       "</style>\n",
       "<table border=\"1\" class=\"dataframe\">\n",
       "  <thead>\n",
       "    <tr style=\"text-align: right;\">\n",
       "      <th></th>\n",
       "      <th>No_Die</th>\n",
       "      <th>Ox_Chamber</th>\n",
       "      <th>process</th>\n",
       "      <th>type</th>\n",
       "      <th>Temp_OXid</th>\n",
       "      <th>Vapor</th>\n",
       "      <th>ppm</th>\n",
       "      <th>Pressure</th>\n",
       "      <th>Oxid_time</th>\n",
       "      <th>thickness</th>\n",
       "      <th>Lot_Num</th>\n",
       "      <th>Wafer_Num</th>\n",
       "      <th>Datetime</th>\n",
       "      <th>photo_soft_Chamber</th>\n",
       "      <th>process 2</th>\n",
       "      <th>resist_target</th>\n",
       "      <th>N2_HMDS</th>\n",
       "      <th>pressure_HMDS</th>\n",
       "      <th>temp_HMDS</th>\n",
       "      <th>temp_HMDS_bake</th>\n",
       "      <th>time_HMDS_bake</th>\n",
       "      <th>spin1</th>\n",
       "      <th>spin2</th>\n",
       "      <th>spin3</th>\n",
       "      <th>photoresist_bake</th>\n",
       "      <th>temp_softbake</th>\n",
       "      <th>time_softbake</th>\n",
       "      <th>lithography_Chamber</th>\n",
       "      <th>Process 2-1</th>\n",
       "      <th>Line_CD</th>\n",
       "      <th>UV_type</th>\n",
       "      <th>Wavelength</th>\n",
       "      <th>Resolution</th>\n",
       "      <th>Energy_Exposure</th>\n",
       "      <th>Etching_Chamber</th>\n",
       "      <th>Process 3</th>\n",
       "      <th>Thin F4</th>\n",
       "      <th>Thin F3</th>\n",
       "      <th>Thin F2</th>\n",
       "      <th>Thin F1</th>\n",
       "      <th>Temp_Etching</th>\n",
       "      <th>Source_Power</th>\n",
       "      <th>Selectivity</th>\n",
       "      <th>Chamber_Num</th>\n",
       "      <th>process4</th>\n",
       "      <th>Flux60s</th>\n",
       "      <th>Flux90s</th>\n",
       "      <th>Flux160s</th>\n",
       "      <th>Flux480s</th>\n",
       "      <th>Flux840s</th>\n",
       "      <th>input_Energy</th>\n",
       "      <th>Temp_implantation</th>\n",
       "      <th>Furance_Temp</th>\n",
       "      <th>RTA_Temp</th>\n",
       "      <th>Target</th>\n",
       "      <th>Error_message</th>\n",
       "      <th>Wafer_map</th>\n",
       "      <th>path</th>\n",
       "    </tr>\n",
       "  </thead>\n",
       "  <tbody>\n",
       "    <tr>\n",
       "      <th>0</th>\n",
       "      <td>NOLSM325131325</td>\n",
       "      <td>2</td>\n",
       "      <td>Oxidation</td>\n",
       "      <td>dry</td>\n",
       "      <td>1214.307948</td>\n",
       "      <td>O2</td>\n",
       "      <td>26.69</td>\n",
       "      <td>0.203</td>\n",
       "      <td>120</td>\n",
       "      <td>713.132</td>\n",
       "      <td>13</td>\n",
       "      <td>28</td>\n",
       "      <td>2023-01-09</td>\n",
       "      <td>1</td>\n",
       "      <td>Photo</td>\n",
       "      <td>1.46994</td>\n",
       "      <td>17.367</td>\n",
       "      <td>15.006</td>\n",
       "      <td>20.001</td>\n",
       "      <td>200.551</td>\n",
       "      <td>90.001</td>\n",
       "      <td>502.391</td>\n",
       "      <td>4017.144</td>\n",
       "      <td>4903.611</td>\n",
       "      <td>5.02</td>\n",
       "      <td>91.918</td>\n",
       "      <td>30.005</td>\n",
       "      <td>1</td>\n",
       "      <td>photo_li</td>\n",
       "      <td>41.676</td>\n",
       "      <td>I</td>\n",
       "      <td>365</td>\n",
       "      <td>505.388</td>\n",
       "      <td>109.628</td>\n",
       "      <td>1</td>\n",
       "      <td>Etching</td>\n",
       "      <td>340.0</td>\n",
       "      <td>1522.0</td>\n",
       "      <td>3644.0</td>\n",
       "      <td>5732.0</td>\n",
       "      <td>72.651</td>\n",
       "      <td>52.103</td>\n",
       "      <td>1.03</td>\n",
       "      <td>1</td>\n",
       "      <td>Implantation</td>\n",
       "      <td>1.500000e+16</td>\n",
       "      <td>1.320000e+17</td>\n",
       "      <td>6.470000e+17</td>\n",
       "      <td>3.010000e+17</td>\n",
       "      <td>6.000000e+17</td>\n",
       "      <td>30795.934</td>\n",
       "      <td>103.433</td>\n",
       "      <td>854.0</td>\n",
       "      <td>154</td>\n",
       "      <td>141.0</td>\n",
       "      <td>none</td>\n",
       "      <td>[[0 0 0 0 0 0 0 0 0 0 1 2 1 1 1 2 0 0 0 0 0 0 ...</td>\n",
       "      <td>21111</td>\n",
       "    </tr>\n",
       "  </tbody>\n",
       "</table>\n",
       "</div>"
      ],
      "text/plain": [
       "           No_Die Ox_Chamber    process type    Temp_OXid Vapor    ppm  \\\n",
       "0  NOLSM325131325          2  Oxidation  dry  1214.307948    O2  26.69   \n",
       "\n",
       "   Pressure  Oxid_time  thickness  Lot_Num  Wafer_Num   Datetime  \\\n",
       "0     0.203        120    713.132       13         28 2023-01-09   \n",
       "\n",
       "  photo_soft_Chamber process 2  resist_target  N2_HMDS  pressure_HMDS  \\\n",
       "0                  1     Photo        1.46994   17.367         15.006   \n",
       "\n",
       "   temp_HMDS  temp_HMDS_bake  time_HMDS_bake    spin1     spin2     spin3  \\\n",
       "0     20.001         200.551          90.001  502.391  4017.144  4903.611   \n",
       "\n",
       "   photoresist_bake  temp_softbake  time_softbake lithography_Chamber  \\\n",
       "0              5.02         91.918         30.005                   1   \n",
       "\n",
       "  Process 2-1  Line_CD UV_type  Wavelength  Resolution  Energy_Exposure  \\\n",
       "0    photo_li   41.676       I         365     505.388          109.628   \n",
       "\n",
       "  Etching_Chamber Process 3  Thin F4  Thin F3  Thin F2  Thin F1  Temp_Etching  \\\n",
       "0               1   Etching    340.0   1522.0   3644.0   5732.0        72.651   \n",
       "\n",
       "   Source_Power  Selectivity Chamber_Num      process4       Flux60s  \\\n",
       "0        52.103         1.03           1  Implantation  1.500000e+16   \n",
       "\n",
       "        Flux90s      Flux160s      Flux480s      Flux840s  input_Energy  \\\n",
       "0  1.320000e+17  6.470000e+17  3.010000e+17  6.000000e+17     30795.934   \n",
       "\n",
       "   Temp_implantation  Furance_Temp  RTA_Temp  Target Error_message  \\\n",
       "0            103.433         854.0       154   141.0          none   \n",
       "\n",
       "                                           Wafer_map   path  \n",
       "0  [[0 0 0 0 0 0 0 0 0 0 1 2 1 1 1 2 0 0 0 0 0 0 ...  21111  "
      ]
     },
     "execution_count": 23,
     "metadata": {},
     "output_type": "execute_result"
    }
   ],
   "source": [
    "df.head(1)"
   ]
  },
  {
   "cell_type": "markdown",
   "id": "e2a20eb2-cf06-448c-a0bc-bfa470047828",
   "metadata": {},
   "source": [
    "df[(df['pressure_HMDS']==14.935) & (df['temp_HMDS']==19.999) & (df['time_HMDS_bake']==90.0)]"
   ]
  },
  {
   "cell_type": "code",
   "execution_count": 30,
   "id": "e9e709ae-93cb-48e5-9385-de58c1ac9402",
   "metadata": {},
   "outputs": [
    {
     "data": {
      "text/plain": [
       "90.000    882\n",
       "90.001    422\n",
       "89.999    328\n",
       "90.002     38\n",
       "89.998     31\n",
       "90.003      1\n",
       "Name: time_HMDS_bake, dtype: int64"
      ]
     },
     "execution_count": 30,
     "metadata": {},
     "output_type": "execute_result"
    }
   ],
   "source": [
    "df['time_HMDS_bake'].value_counts()"
   ]
  },
  {
   "cell_type": "code",
   "execution_count": 38,
   "id": "ffeeeef0-ad03-4909-8139-ac1bcc7a5f25",
   "metadata": {},
   "outputs": [
    {
     "data": {
      "text/plain": [
       "155    284\n",
       "156    270\n",
       "154    248\n",
       "153    202\n",
       "157    190\n",
       "152    136\n",
       "158     98\n",
       "150     76\n",
       "151     76\n",
       "159     72\n",
       "149     20\n",
       "160     20\n",
       "161      4\n",
       "148      4\n",
       "162      2\n",
       "Name: RTA_Temp, dtype: int64"
      ]
     },
     "execution_count": 38,
     "metadata": {},
     "output_type": "execute_result"
    }
   ],
   "source": [
    "df['RTA_Temp'].value_counts()"
   ]
  },
  {
   "cell_type": "code",
   "execution_count": null,
   "id": "82be335b-01fc-4165-898a-fbe2701b2cf1",
   "metadata": {},
   "outputs": [],
   "source": []
  }
 ],
 "metadata": {
  "kernelspec": {
   "display_name": "Python 3 (ipykernel)",
   "language": "python",
   "name": "python3"
  },
  "language_info": {
   "codemirror_mode": {
    "name": "ipython",
    "version": 3
   },
   "file_extension": ".py",
   "mimetype": "text/x-python",
   "name": "python",
   "nbconvert_exporter": "python",
   "pygments_lexer": "ipython3",
   "version": "3.11.9"
  }
 },
 "nbformat": 4,
 "nbformat_minor": 5
}
